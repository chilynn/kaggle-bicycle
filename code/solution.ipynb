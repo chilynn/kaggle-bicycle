{
 "cells": [
  {
   "cell_type": "code",
   "execution_count": 1,
   "metadata": {
    "collapsed": false
   },
   "outputs": [
    {
     "name": "stdout",
     "output_type": "stream",
     "text": [
      "Populating the interactive namespace from numpy and matplotlib\n"
     ]
    }
   ],
   "source": [
    "%pylab inline"
   ]
  },
  {
   "cell_type": "code",
   "execution_count": 2,
   "metadata": {
    "collapsed": true
   },
   "outputs": [],
   "source": [
    "import pandas as pd\n",
    "import numpy as np\n",
    "import matplotlib.pyplot as plt\n",
    "from sklearn.ensemble import RandomForestRegressor, GradientBoostingRegressor"
   ]
  },
  {
   "cell_type": "markdown",
   "metadata": {},
   "source": [
    "# 字段描述\n",
    "1. datetime: hourly date + timestamp\n",
    "2. season: *(indices changed from defaults received)\n",
    "  - 1 = winter\n",
    "  - 2 = spring\n",
    "  - 3 = summer\n",
    "  - 4 = fall\n",
    "3. holiday - whether the day is considered a holiday\n",
    "4. workingday - whether the day is neither a weekend nor holiday\n",
    "5. weather - encoded to make explicit various extreme weather events\n",
    "6. temp - temperature in Celsius\n",
    "7. atemp - \"feels like\" temperature in Celsius\n",
    "8. humidity - relative humidity\n",
    "9. windspeed - wind speed\n",
    "10. casual - number of non-registered user rentals initiated\n",
    "11. registered - number of registered user rentals initiated\n",
    "12. count - number of total rentals"
   ]
  },
  {
   "cell_type": "markdown",
   "metadata": {},
   "source": [
    "# 1 读取数据"
   ]
  },
  {
   "cell_type": "code",
   "execution_count": 3,
   "metadata": {
    "collapsed": true
   },
   "outputs": [],
   "source": [
    "# 读取数据（train和test）\n",
    "dfs = {}\n",
    "for name in [\"train\", \"test\"]:\n",
    "    df = pd.read_csv(\"../data/%s.csv\" % name)\n",
    "    df[\"data_name\"] = name\n",
    "    dfs[name] = df"
   ]
  },
  {
   "cell_type": "code",
   "execution_count": 4,
   "metadata": {
    "collapsed": false
   },
   "outputs": [
    {
     "data": {
      "text/html": [
       "<div>\n",
       "<table border=\"1\" class=\"dataframe\">\n",
       "  <thead>\n",
       "    <tr style=\"text-align: right;\">\n",
       "      <th></th>\n",
       "      <th>atemp</th>\n",
       "      <th>casual</th>\n",
       "      <th>count</th>\n",
       "      <th>data_name</th>\n",
       "      <th>datetime</th>\n",
       "      <th>holiday</th>\n",
       "      <th>humidity</th>\n",
       "      <th>registered</th>\n",
       "      <th>season</th>\n",
       "      <th>temp</th>\n",
       "      <th>weather</th>\n",
       "      <th>windspeed</th>\n",
       "      <th>workingday</th>\n",
       "    </tr>\n",
       "  </thead>\n",
       "  <tbody>\n",
       "    <tr>\n",
       "      <th>0</th>\n",
       "      <td>14.395</td>\n",
       "      <td>3</td>\n",
       "      <td>16</td>\n",
       "      <td>train</td>\n",
       "      <td>2011-01-01 00:00:00</td>\n",
       "      <td>0</td>\n",
       "      <td>81</td>\n",
       "      <td>13</td>\n",
       "      <td>1</td>\n",
       "      <td>9.84</td>\n",
       "      <td>1</td>\n",
       "      <td>0</td>\n",
       "      <td>0</td>\n",
       "    </tr>\n",
       "    <tr>\n",
       "      <th>1</th>\n",
       "      <td>13.635</td>\n",
       "      <td>8</td>\n",
       "      <td>40</td>\n",
       "      <td>train</td>\n",
       "      <td>2011-01-01 01:00:00</td>\n",
       "      <td>0</td>\n",
       "      <td>80</td>\n",
       "      <td>32</td>\n",
       "      <td>1</td>\n",
       "      <td>9.02</td>\n",
       "      <td>1</td>\n",
       "      <td>0</td>\n",
       "      <td>0</td>\n",
       "    </tr>\n",
       "    <tr>\n",
       "      <th>2</th>\n",
       "      <td>13.635</td>\n",
       "      <td>5</td>\n",
       "      <td>32</td>\n",
       "      <td>train</td>\n",
       "      <td>2011-01-01 02:00:00</td>\n",
       "      <td>0</td>\n",
       "      <td>80</td>\n",
       "      <td>27</td>\n",
       "      <td>1</td>\n",
       "      <td>9.02</td>\n",
       "      <td>1</td>\n",
       "      <td>0</td>\n",
       "      <td>0</td>\n",
       "    </tr>\n",
       "    <tr>\n",
       "      <th>3</th>\n",
       "      <td>14.395</td>\n",
       "      <td>3</td>\n",
       "      <td>13</td>\n",
       "      <td>train</td>\n",
       "      <td>2011-01-01 03:00:00</td>\n",
       "      <td>0</td>\n",
       "      <td>75</td>\n",
       "      <td>10</td>\n",
       "      <td>1</td>\n",
       "      <td>9.84</td>\n",
       "      <td>1</td>\n",
       "      <td>0</td>\n",
       "      <td>0</td>\n",
       "    </tr>\n",
       "    <tr>\n",
       "      <th>4</th>\n",
       "      <td>14.395</td>\n",
       "      <td>0</td>\n",
       "      <td>1</td>\n",
       "      <td>train</td>\n",
       "      <td>2011-01-01 04:00:00</td>\n",
       "      <td>0</td>\n",
       "      <td>75</td>\n",
       "      <td>1</td>\n",
       "      <td>1</td>\n",
       "      <td>9.84</td>\n",
       "      <td>1</td>\n",
       "      <td>0</td>\n",
       "      <td>0</td>\n",
       "    </tr>\n",
       "  </tbody>\n",
       "</table>\n",
       "</div>"
      ],
      "text/plain": [
       "    atemp  casual  count data_name             datetime  holiday  humidity  \\\n",
       "0  14.395       3     16     train  2011-01-01 00:00:00        0        81   \n",
       "1  13.635       8     40     train  2011-01-01 01:00:00        0        80   \n",
       "2  13.635       5     32     train  2011-01-01 02:00:00        0        80   \n",
       "3  14.395       3     13     train  2011-01-01 03:00:00        0        75   \n",
       "4  14.395       0      1     train  2011-01-01 04:00:00        0        75   \n",
       "\n",
       "   registered  season  temp  weather  windspeed  workingday  \n",
       "0          13       1  9.84        1          0           0  \n",
       "1          32       1  9.02        1          0           0  \n",
       "2          27       1  9.02        1          0           0  \n",
       "3          10       1  9.84        1          0           0  \n",
       "4           1       1  9.84        1          0           0  "
      ]
     },
     "execution_count": 4,
     "metadata": {},
     "output_type": "execute_result"
    }
   ],
   "source": [
    "df = dfs[\"train\"].append(dfs[\"test\"]) # 合并train和test到df中\n",
    "df.columns = map(str.lower, df.columns) #用python自带的map函数，小写col name\n",
    "df.head()"
   ]
  },
  {
   "cell_type": "code",
   "execution_count": 5,
   "metadata": {
    "collapsed": false
   },
   "outputs": [
    {
     "data": {
      "text/plain": [
       "atemp         float64\n",
       "casual        float64\n",
       "count         float64\n",
       "data_name      object\n",
       "datetime       object\n",
       "holiday         int64\n",
       "humidity        int64\n",
       "registered    float64\n",
       "season          int64\n",
       "temp          float64\n",
       "weather         int64\n",
       "windspeed     float64\n",
       "workingday      int64\n",
       "dtype: object"
      ]
     },
     "execution_count": 5,
     "metadata": {},
     "output_type": "execute_result"
    }
   ],
   "source": [
    "df.dtypes"
   ]
  },
  {
   "cell_type": "markdown",
   "metadata": {},
   "source": [
    "# 2 特征工程"
   ]
  },
  {
   "cell_type": "markdown",
   "metadata": {},
   "source": [
    "## 2.1 取对数操作"
   ]
  },
  {
   "cell_type": "code",
   "execution_count": 6,
   "metadata": {
    "collapsed": false
   },
   "outputs": [
    {
     "data": {
      "text/plain": [
       "<matplotlib.axes.AxesSubplot at 0x10eb7f250>"
      ]
     },
     "execution_count": 6,
     "metadata": {},
     "output_type": "execute_result"
    },
    {
     "data": {
      "image/png": "[encoded data removed]",
      "text/plain": [
       "<matplotlib.figure.Figure at 0x10d9fc490>"
      ]
     },
     "metadata": {},
     "output_type": "display_data"
    }
   ],
   "source": [
    "df[\"count\"].hist()"
   ]
  },
  {
   "cell_type": "code",
   "execution_count": 7,
   "metadata": {
    "collapsed": true
   },
   "outputs": [],
   "source": [
    "# 我们可以看到y值是服从长尾分布的，可以做个log transformation？？？\n",
    "for col in [\"casual\", \"registered\", \"count\"]:\n",
    "    df[\"%s_log\" % col] = np.log(df[col] + 1) # 矢量与标量相加，通过广播对每个element加1，防止log(0)的发生"
   ]
  },
  {
   "cell_type": "code",
   "execution_count": 8,
   "metadata": {
    "collapsed": false
   },
   "outputs": [
    {
     "data": {
      "text/plain": [
       "<matplotlib.axes.AxesSubplot at 0x10f70f6d0>"
      ]
     },
     "execution_count": 8,
     "metadata": {},
     "output_type": "execute_result"
    },
    {
     "data": {
      "image/png": "[encoded data removed]",
      "text/plain": [
       "<matplotlib.figure.Figure at 0x10f707590>"
      ]
     },
     "metadata": {},
     "output_type": "display_data"
    }
   ],
   "source": [
    "# log transformation后，可以变成近似高斯的分布，符合很多模型的假设，同时也可以减少值之间的差异，更加平滑\n",
    "df[\"count_log\"].hist()"
   ]
  },
  {
   "cell_type": "markdown",
   "metadata": {},
   "source": [
    "## 2.2 时间特征"
   ]
  },
  {
   "cell_type": "code",
   "execution_count": 9,
   "metadata": {
    "collapsed": false
   },
   "outputs": [
    {
     "data": {
      "text/html": [
       "<div>\n",
       "<table border=\"1\" class=\"dataframe\">\n",
       "  <thead>\n",
       "    <tr style=\"text-align: right;\">\n",
       "      <th></th>\n",
       "      <th>atemp</th>\n",
       "      <th>casual</th>\n",
       "      <th>count</th>\n",
       "      <th>data_name</th>\n",
       "      <th>datetime</th>\n",
       "      <th>holiday</th>\n",
       "      <th>humidity</th>\n",
       "      <th>registered</th>\n",
       "      <th>season</th>\n",
       "      <th>temp</th>\n",
       "      <th>weather</th>\n",
       "      <th>windspeed</th>\n",
       "      <th>workingday</th>\n",
       "      <th>casual_log</th>\n",
       "      <th>registered_log</th>\n",
       "      <th>count_log</th>\n",
       "    </tr>\n",
       "  </thead>\n",
       "  <tbody>\n",
       "    <tr>\n",
       "      <th>2011-01-01 00:00:00</th>\n",
       "      <td>14.395</td>\n",
       "      <td>3</td>\n",
       "      <td>16</td>\n",
       "      <td>train</td>\n",
       "      <td>2011-01-01 00:00:00</td>\n",
       "      <td>0</td>\n",
       "      <td>81</td>\n",
       "      <td>13</td>\n",
       "      <td>1</td>\n",
       "      <td>9.84</td>\n",
       "      <td>1</td>\n",
       "      <td>0</td>\n",
       "      <td>0</td>\n",
       "      <td>1.386294</td>\n",
       "      <td>2.639057</td>\n",
       "      <td>2.833213</td>\n",
       "    </tr>\n",
       "    <tr>\n",
       "      <th>2011-01-01 01:00:00</th>\n",
       "      <td>13.635</td>\n",
       "      <td>8</td>\n",
       "      <td>40</td>\n",
       "      <td>train</td>\n",
       "      <td>2011-01-01 01:00:00</td>\n",
       "      <td>0</td>\n",
       "      <td>80</td>\n",
       "      <td>32</td>\n",
       "      <td>1</td>\n",
       "      <td>9.02</td>\n",
       "      <td>1</td>\n",
       "      <td>0</td>\n",
       "      <td>0</td>\n",
       "      <td>2.197225</td>\n",
       "      <td>3.496508</td>\n",
       "      <td>3.713572</td>\n",
       "    </tr>\n",
       "    <tr>\n",
       "      <th>2011-01-01 02:00:00</th>\n",
       "      <td>13.635</td>\n",
       "      <td>5</td>\n",
       "      <td>32</td>\n",
       "      <td>train</td>\n",
       "      <td>2011-01-01 02:00:00</td>\n",
       "      <td>0</td>\n",
       "      <td>80</td>\n",
       "      <td>27</td>\n",
       "      <td>1</td>\n",
       "      <td>9.02</td>\n",
       "      <td>1</td>\n",
       "      <td>0</td>\n",
       "      <td>0</td>\n",
       "      <td>1.791759</td>\n",
       "      <td>3.332205</td>\n",
       "      <td>3.496508</td>\n",
       "    </tr>\n",
       "    <tr>\n",
       "      <th>2011-01-01 03:00:00</th>\n",
       "      <td>14.395</td>\n",
       "      <td>3</td>\n",
       "      <td>13</td>\n",
       "      <td>train</td>\n",
       "      <td>2011-01-01 03:00:00</td>\n",
       "      <td>0</td>\n",
       "      <td>75</td>\n",
       "      <td>10</td>\n",
       "      <td>1</td>\n",
       "      <td>9.84</td>\n",
       "      <td>1</td>\n",
       "      <td>0</td>\n",
       "      <td>0</td>\n",
       "      <td>1.386294</td>\n",
       "      <td>2.397895</td>\n",
       "      <td>2.639057</td>\n",
       "    </tr>\n",
       "    <tr>\n",
       "      <th>2011-01-01 04:00:00</th>\n",
       "      <td>14.395</td>\n",
       "      <td>0</td>\n",
       "      <td>1</td>\n",
       "      <td>train</td>\n",
       "      <td>2011-01-01 04:00:00</td>\n",
       "      <td>0</td>\n",
       "      <td>75</td>\n",
       "      <td>1</td>\n",
       "      <td>1</td>\n",
       "      <td>9.84</td>\n",
       "      <td>1</td>\n",
       "      <td>0</td>\n",
       "      <td>0</td>\n",
       "      <td>0.000000</td>\n",
       "      <td>0.693147</td>\n",
       "      <td>0.693147</td>\n",
       "    </tr>\n",
       "  </tbody>\n",
       "</table>\n",
       "</div>"
      ],
      "text/plain": [
       "                      atemp  casual  count data_name             datetime  \\\n",
       "2011-01-01 00:00:00  14.395       3     16     train  2011-01-01 00:00:00   \n",
       "2011-01-01 01:00:00  13.635       8     40     train  2011-01-01 01:00:00   \n",
       "2011-01-01 02:00:00  13.635       5     32     train  2011-01-01 02:00:00   \n",
       "2011-01-01 03:00:00  14.395       3     13     train  2011-01-01 03:00:00   \n",
       "2011-01-01 04:00:00  14.395       0      1     train  2011-01-01 04:00:00   \n",
       "\n",
       "                     holiday  humidity  registered  season  temp  weather  \\\n",
       "2011-01-01 00:00:00        0        81          13       1  9.84        1   \n",
       "2011-01-01 01:00:00        0        80          32       1  9.02        1   \n",
       "2011-01-01 02:00:00        0        80          27       1  9.02        1   \n",
       "2011-01-01 03:00:00        0        75          10       1  9.84        1   \n",
       "2011-01-01 04:00:00        0        75           1       1  9.84        1   \n",
       "\n",
       "                     windspeed  workingday  casual_log  registered_log  \\\n",
       "2011-01-01 00:00:00          0           0    1.386294        2.639057   \n",
       "2011-01-01 01:00:00          0           0    2.197225        3.496508   \n",
       "2011-01-01 02:00:00          0           0    1.791759        3.332205   \n",
       "2011-01-01 03:00:00          0           0    1.386294        2.397895   \n",
       "2011-01-01 04:00:00          0           0    0.000000        0.693147   \n",
       "\n",
       "                     count_log  \n",
       "2011-01-01 00:00:00   2.833213  \n",
       "2011-01-01 01:00:00   3.713572  \n",
       "2011-01-01 02:00:00   3.496508  \n",
       "2011-01-01 03:00:00   2.639057  \n",
       "2011-01-01 04:00:00   0.693147  "
      ]
     },
     "execution_count": 9,
     "metadata": {},
     "output_type": "execute_result"
    }
   ],
   "source": [
    "dt = pd.DatetimeIndex(df[\"datetime\"])\n",
    "df.set_index(dt, inplace=True)\n",
    "df.head()"
   ]
  },
  {
   "cell_type": "code",
   "execution_count": 10,
   "metadata": {
    "collapsed": true
   },
   "outputs": [],
   "source": [
    "# 将datetime分解成若干个特征\n",
    "df['date'] = dt.date\n",
    "df['year'] = dt.year\n",
    "df['month'] = dt.month\n",
    "df['day'] = dt.day\n",
    "df['hour'] = dt.hour\n",
    "df['dow'] = dt.dayofweek\n",
    "df['woy'] = dt.weekofyear"
   ]
  },
  {
   "cell_type": "code",
   "execution_count": 11,
   "metadata": {
    "collapsed": false
   },
   "outputs": [
    {
     "data": {
      "text/html": [
       "<div>\n",
       "<table border=\"1\" class=\"dataframe\">\n",
       "  <thead>\n",
       "    <tr style=\"text-align: right;\">\n",
       "      <th></th>\n",
       "      <th>atemp</th>\n",
       "      <th>casual</th>\n",
       "      <th>count</th>\n",
       "      <th>data_name</th>\n",
       "      <th>datetime</th>\n",
       "      <th>holiday</th>\n",
       "      <th>humidity</th>\n",
       "      <th>registered</th>\n",
       "      <th>season</th>\n",
       "      <th>temp</th>\n",
       "      <th>...</th>\n",
       "      <th>casual_log</th>\n",
       "      <th>registered_log</th>\n",
       "      <th>count_log</th>\n",
       "      <th>date</th>\n",
       "      <th>year</th>\n",
       "      <th>month</th>\n",
       "      <th>day</th>\n",
       "      <th>hour</th>\n",
       "      <th>dow</th>\n",
       "      <th>woy</th>\n",
       "    </tr>\n",
       "  </thead>\n",
       "  <tbody>\n",
       "    <tr>\n",
       "      <th>2011-01-01 00:00:00</th>\n",
       "      <td>14.395</td>\n",
       "      <td>3</td>\n",
       "      <td>16</td>\n",
       "      <td>train</td>\n",
       "      <td>2011-01-01 00:00:00</td>\n",
       "      <td>0</td>\n",
       "      <td>81</td>\n",
       "      <td>13</td>\n",
       "      <td>1</td>\n",
       "      <td>9.84</td>\n",
       "      <td>...</td>\n",
       "      <td>1.386294</td>\n",
       "      <td>2.639057</td>\n",
       "      <td>2.833213</td>\n",
       "      <td>2011-01-01</td>\n",
       "      <td>2011</td>\n",
       "      <td>1</td>\n",
       "      <td>1</td>\n",
       "      <td>0</td>\n",
       "      <td>5</td>\n",
       "      <td>52</td>\n",
       "    </tr>\n",
       "    <tr>\n",
       "      <th>2011-01-01 01:00:00</th>\n",
       "      <td>13.635</td>\n",
       "      <td>8</td>\n",
       "      <td>40</td>\n",
       "      <td>train</td>\n",
       "      <td>2011-01-01 01:00:00</td>\n",
       "      <td>0</td>\n",
       "      <td>80</td>\n",
       "      <td>32</td>\n",
       "      <td>1</td>\n",
       "      <td>9.02</td>\n",
       "      <td>...</td>\n",
       "      <td>2.197225</td>\n",
       "      <td>3.496508</td>\n",
       "      <td>3.713572</td>\n",
       "      <td>2011-01-01</td>\n",
       "      <td>2011</td>\n",
       "      <td>1</td>\n",
       "      <td>1</td>\n",
       "      <td>1</td>\n",
       "      <td>5</td>\n",
       "      <td>52</td>\n",
       "    </tr>\n",
       "    <tr>\n",
       "      <th>2011-01-01 02:00:00</th>\n",
       "      <td>13.635</td>\n",
       "      <td>5</td>\n",
       "      <td>32</td>\n",
       "      <td>train</td>\n",
       "      <td>2011-01-01 02:00:00</td>\n",
       "      <td>0</td>\n",
       "      <td>80</td>\n",
       "      <td>27</td>\n",
       "      <td>1</td>\n",
       "      <td>9.02</td>\n",
       "      <td>...</td>\n",
       "      <td>1.791759</td>\n",
       "      <td>3.332205</td>\n",
       "      <td>3.496508</td>\n",
       "      <td>2011-01-01</td>\n",
       "      <td>2011</td>\n",
       "      <td>1</td>\n",
       "      <td>1</td>\n",
       "      <td>2</td>\n",
       "      <td>5</td>\n",
       "      <td>52</td>\n",
       "    </tr>\n",
       "    <tr>\n",
       "      <th>2011-01-01 03:00:00</th>\n",
       "      <td>14.395</td>\n",
       "      <td>3</td>\n",
       "      <td>13</td>\n",
       "      <td>train</td>\n",
       "      <td>2011-01-01 03:00:00</td>\n",
       "      <td>0</td>\n",
       "      <td>75</td>\n",
       "      <td>10</td>\n",
       "      <td>1</td>\n",
       "      <td>9.84</td>\n",
       "      <td>...</td>\n",
       "      <td>1.386294</td>\n",
       "      <td>2.397895</td>\n",
       "      <td>2.639057</td>\n",
       "      <td>2011-01-01</td>\n",
       "      <td>2011</td>\n",
       "      <td>1</td>\n",
       "      <td>1</td>\n",
       "      <td>3</td>\n",
       "      <td>5</td>\n",
       "      <td>52</td>\n",
       "    </tr>\n",
       "    <tr>\n",
       "      <th>2011-01-01 04:00:00</th>\n",
       "      <td>14.395</td>\n",
       "      <td>0</td>\n",
       "      <td>1</td>\n",
       "      <td>train</td>\n",
       "      <td>2011-01-01 04:00:00</td>\n",
       "      <td>0</td>\n",
       "      <td>75</td>\n",
       "      <td>1</td>\n",
       "      <td>1</td>\n",
       "      <td>9.84</td>\n",
       "      <td>...</td>\n",
       "      <td>0.000000</td>\n",
       "      <td>0.693147</td>\n",
       "      <td>0.693147</td>\n",
       "      <td>2011-01-01</td>\n",
       "      <td>2011</td>\n",
       "      <td>1</td>\n",
       "      <td>1</td>\n",
       "      <td>4</td>\n",
       "      <td>5</td>\n",
       "      <td>52</td>\n",
       "    </tr>\n",
       "  </tbody>\n",
       "</table>\n",
       "<p>5 rows × 23 columns</p>\n",
       "</div>"
      ],
      "text/plain": [
       "                      atemp  casual  count data_name             datetime  \\\n",
       "2011-01-01 00:00:00  14.395       3     16     train  2011-01-01 00:00:00   \n",
       "2011-01-01 01:00:00  13.635       8     40     train  2011-01-01 01:00:00   \n",
       "2011-01-01 02:00:00  13.635       5     32     train  2011-01-01 02:00:00   \n",
       "2011-01-01 03:00:00  14.395       3     13     train  2011-01-01 03:00:00   \n",
       "2011-01-01 04:00:00  14.395       0      1     train  2011-01-01 04:00:00   \n",
       "\n",
       "                     holiday  humidity  registered  season  temp ...   \\\n",
       "2011-01-01 00:00:00        0        81          13       1  9.84 ...    \n",
       "2011-01-01 01:00:00        0        80          32       1  9.02 ...    \n",
       "2011-01-01 02:00:00        0        80          27       1  9.02 ...    \n",
       "2011-01-01 03:00:00        0        75          10       1  9.84 ...    \n",
       "2011-01-01 04:00:00        0        75           1       1  9.84 ...    \n",
       "\n",
       "                     casual_log  registered_log  count_log        date  year  \\\n",
       "2011-01-01 00:00:00    1.386294        2.639057   2.833213  2011-01-01  2011   \n",
       "2011-01-01 01:00:00    2.197225        3.496508   3.713572  2011-01-01  2011   \n",
       "2011-01-01 02:00:00    1.791759        3.332205   3.496508  2011-01-01  2011   \n",
       "2011-01-01 03:00:00    1.386294        2.397895   2.639057  2011-01-01  2011   \n",
       "2011-01-01 04:00:00    0.000000        0.693147   0.693147  2011-01-01  2011   \n",
       "\n",
       "                     month day  hour  dow  woy  \n",
       "2011-01-01 00:00:00      1   1     0    5   52  \n",
       "2011-01-01 01:00:00      1   1     1    5   52  \n",
       "2011-01-01 02:00:00      1   1     2    5   52  \n",
       "2011-01-01 03:00:00      1   1     3    5   52  \n",
       "2011-01-01 04:00:00      1   1     4    5   52  \n",
       "\n",
       "[5 rows x 23 columns]"
      ]
     },
     "execution_count": 11,
     "metadata": {},
     "output_type": "execute_result"
    }
   ],
   "source": [
    "df.head()"
   ]
  },
  {
   "cell_type": "markdown",
   "metadata": {},
   "source": [
    "## 2.3 季节特征"
   ]
  },
  {
   "cell_type": "code",
   "execution_count": 13,
   "metadata": {
    "collapsed": false
   },
   "outputs": [],
   "source": [
    "season_count = df[df[\"data_name\"] == \"train\"].groupby([\"season\"])[[\"count\"]].agg(sum)\n",
    "season_count.columns = [\"season_count\"]\n",
    "df = df.join(season_count, on=\"season\")"
   ]
  },
  {
   "cell_type": "code",
   "execution_count": 14,
   "metadata": {
    "collapsed": false
   },
   "outputs": [
    {
     "data": {
      "text/html": [
       "<div>\n",
       "<table border=\"1\" class=\"dataframe\">\n",
       "  <thead>\n",
       "    <tr style=\"text-align: right;\">\n",
       "      <th></th>\n",
       "      <th>season_count</th>\n",
       "    </tr>\n",
       "    <tr>\n",
       "      <th>season</th>\n",
       "      <th></th>\n",
       "    </tr>\n",
       "  </thead>\n",
       "  <tbody>\n",
       "    <tr>\n",
       "      <th>1</th>\n",
       "      <td>312498</td>\n",
       "    </tr>\n",
       "    <tr>\n",
       "      <th>2</th>\n",
       "      <td>588282</td>\n",
       "    </tr>\n",
       "    <tr>\n",
       "      <th>3</th>\n",
       "      <td>640662</td>\n",
       "    </tr>\n",
       "    <tr>\n",
       "      <th>4</th>\n",
       "      <td>544034</td>\n",
       "    </tr>\n",
       "  </tbody>\n",
       "</table>\n",
       "</div>"
      ],
      "text/plain": [
       "        season_count\n",
       "season              \n",
       "1             312498\n",
       "2             588282\n",
       "3             640662\n",
       "4             544034"
      ]
     },
     "execution_count": 14,
     "metadata": {},
     "output_type": "execute_result"
    }
   ],
   "source": [
    "season_count"
   ]
  },
  {
   "cell_type": "code",
   "execution_count": 15,
   "metadata": {
    "collapsed": false
   },
   "outputs": [
    {
     "data": {
      "text/html": [
       "<div>\n",
       "<table border=\"1\" class=\"dataframe\">\n",
       "  <thead>\n",
       "    <tr style=\"text-align: right;\">\n",
       "      <th></th>\n",
       "      <th>atemp</th>\n",
       "      <th>casual</th>\n",
       "      <th>count</th>\n",
       "      <th>data_name</th>\n",
       "      <th>datetime</th>\n",
       "      <th>holiday</th>\n",
       "      <th>humidity</th>\n",
       "      <th>registered</th>\n",
       "      <th>season</th>\n",
       "      <th>temp</th>\n",
       "      <th>...</th>\n",
       "      <th>registered_log</th>\n",
       "      <th>count_log</th>\n",
       "      <th>date</th>\n",
       "      <th>year</th>\n",
       "      <th>month</th>\n",
       "      <th>day</th>\n",
       "      <th>hour</th>\n",
       "      <th>dow</th>\n",
       "      <th>woy</th>\n",
       "      <th>season_count</th>\n",
       "    </tr>\n",
       "  </thead>\n",
       "  <tbody>\n",
       "    <tr>\n",
       "      <th>2011-01-01 00:00:00</th>\n",
       "      <td>14.395</td>\n",
       "      <td>3</td>\n",
       "      <td>16</td>\n",
       "      <td>train</td>\n",
       "      <td>2011-01-01 00:00:00</td>\n",
       "      <td>0</td>\n",
       "      <td>81</td>\n",
       "      <td>13</td>\n",
       "      <td>1</td>\n",
       "      <td>9.84</td>\n",
       "      <td>...</td>\n",
       "      <td>2.639057</td>\n",
       "      <td>2.833213</td>\n",
       "      <td>2011-01-01</td>\n",
       "      <td>2011</td>\n",
       "      <td>1</td>\n",
       "      <td>1</td>\n",
       "      <td>0</td>\n",
       "      <td>5</td>\n",
       "      <td>52</td>\n",
       "      <td>312498</td>\n",
       "    </tr>\n",
       "    <tr>\n",
       "      <th>2011-01-01 01:00:00</th>\n",
       "      <td>13.635</td>\n",
       "      <td>8</td>\n",
       "      <td>40</td>\n",
       "      <td>train</td>\n",
       "      <td>2011-01-01 01:00:00</td>\n",
       "      <td>0</td>\n",
       "      <td>80</td>\n",
       "      <td>32</td>\n",
       "      <td>1</td>\n",
       "      <td>9.02</td>\n",
       "      <td>...</td>\n",
       "      <td>3.496508</td>\n",
       "      <td>3.713572</td>\n",
       "      <td>2011-01-01</td>\n",
       "      <td>2011</td>\n",
       "      <td>1</td>\n",
       "      <td>1</td>\n",
       "      <td>1</td>\n",
       "      <td>5</td>\n",
       "      <td>52</td>\n",
       "      <td>312498</td>\n",
       "    </tr>\n",
       "    <tr>\n",
       "      <th>2011-01-01 02:00:00</th>\n",
       "      <td>13.635</td>\n",
       "      <td>5</td>\n",
       "      <td>32</td>\n",
       "      <td>train</td>\n",
       "      <td>2011-01-01 02:00:00</td>\n",
       "      <td>0</td>\n",
       "      <td>80</td>\n",
       "      <td>27</td>\n",
       "      <td>1</td>\n",
       "      <td>9.02</td>\n",
       "      <td>...</td>\n",
       "      <td>3.332205</td>\n",
       "      <td>3.496508</td>\n",
       "      <td>2011-01-01</td>\n",
       "      <td>2011</td>\n",
       "      <td>1</td>\n",
       "      <td>1</td>\n",
       "      <td>2</td>\n",
       "      <td>5</td>\n",
       "      <td>52</td>\n",
       "      <td>312498</td>\n",
       "    </tr>\n",
       "    <tr>\n",
       "      <th>2011-01-01 03:00:00</th>\n",
       "      <td>14.395</td>\n",
       "      <td>3</td>\n",
       "      <td>13</td>\n",
       "      <td>train</td>\n",
       "      <td>2011-01-01 03:00:00</td>\n",
       "      <td>0</td>\n",
       "      <td>75</td>\n",
       "      <td>10</td>\n",
       "      <td>1</td>\n",
       "      <td>9.84</td>\n",
       "      <td>...</td>\n",
       "      <td>2.397895</td>\n",
       "      <td>2.639057</td>\n",
       "      <td>2011-01-01</td>\n",
       "      <td>2011</td>\n",
       "      <td>1</td>\n",
       "      <td>1</td>\n",
       "      <td>3</td>\n",
       "      <td>5</td>\n",
       "      <td>52</td>\n",
       "      <td>312498</td>\n",
       "    </tr>\n",
       "    <tr>\n",
       "      <th>2011-01-01 04:00:00</th>\n",
       "      <td>14.395</td>\n",
       "      <td>0</td>\n",
       "      <td>1</td>\n",
       "      <td>train</td>\n",
       "      <td>2011-01-01 04:00:00</td>\n",
       "      <td>0</td>\n",
       "      <td>75</td>\n",
       "      <td>1</td>\n",
       "      <td>1</td>\n",
       "      <td>9.84</td>\n",
       "      <td>...</td>\n",
       "      <td>0.693147</td>\n",
       "      <td>0.693147</td>\n",
       "      <td>2011-01-01</td>\n",
       "      <td>2011</td>\n",
       "      <td>1</td>\n",
       "      <td>1</td>\n",
       "      <td>4</td>\n",
       "      <td>5</td>\n",
       "      <td>52</td>\n",
       "      <td>312498</td>\n",
       "    </tr>\n",
       "  </tbody>\n",
       "</table>\n",
       "<p>5 rows × 24 columns</p>\n",
       "</div>"
      ],
      "text/plain": [
       "                      atemp  casual  count data_name             datetime  \\\n",
       "2011-01-01 00:00:00  14.395       3     16     train  2011-01-01 00:00:00   \n",
       "2011-01-01 01:00:00  13.635       8     40     train  2011-01-01 01:00:00   \n",
       "2011-01-01 02:00:00  13.635       5     32     train  2011-01-01 02:00:00   \n",
       "2011-01-01 03:00:00  14.395       3     13     train  2011-01-01 03:00:00   \n",
       "2011-01-01 04:00:00  14.395       0      1     train  2011-01-01 04:00:00   \n",
       "\n",
       "                     holiday  humidity  registered  season  temp  \\\n",
       "2011-01-01 00:00:00        0        81          13       1  9.84   \n",
       "2011-01-01 01:00:00        0        80          32       1  9.02   \n",
       "2011-01-01 02:00:00        0        80          27       1  9.02   \n",
       "2011-01-01 03:00:00        0        75          10       1  9.84   \n",
       "2011-01-01 04:00:00        0        75           1       1  9.84   \n",
       "\n",
       "                         ...       registered_log  count_log        date  \\\n",
       "2011-01-01 00:00:00      ...             2.639057   2.833213  2011-01-01   \n",
       "2011-01-01 01:00:00      ...             3.496508   3.713572  2011-01-01   \n",
       "2011-01-01 02:00:00      ...             3.332205   3.496508  2011-01-01   \n",
       "2011-01-01 03:00:00      ...             2.397895   2.639057  2011-01-01   \n",
       "2011-01-01 04:00:00      ...             0.693147   0.693147  2011-01-01   \n",
       "\n",
       "                     year  month  day hour  dow  woy  season_count  \n",
       "2011-01-01 00:00:00  2011      1    1    0    5   52        312498  \n",
       "2011-01-01 01:00:00  2011      1    1    1    5   52        312498  \n",
       "2011-01-01 02:00:00  2011      1    1    2    5   52        312498  \n",
       "2011-01-01 03:00:00  2011      1    1    3    5   52        312498  \n",
       "2011-01-01 04:00:00  2011      1    1    4    5   52        312498  \n",
       "\n",
       "[5 rows x 24 columns]"
      ]
     },
     "execution_count": 15,
     "metadata": {},
     "output_type": "execute_result"
    }
   ],
   "source": [
    "df.head()"
   ]
  },
  {
   "cell_type": "markdown",
   "metadata": {},
   "source": [
    "## 2.4 高峰期特征"
   ]
  },
  {
   "cell_type": "code",
   "execution_count": 16,
   "metadata": {
    "collapsed": false
   },
   "outputs": [
    {
     "name": "stdout",
     "output_type": "stream",
     "text": [
      "workingday      0      1\n",
      "hour                    \n",
      "0           13701  11387\n",
      "1           10427   4945\n",
      "2            7686   2573\n",
      "3            3677   1414\n",
      "4            1239   1593\n"
     ]
    },
    {
     "name": "stderr",
     "output_type": "stream",
     "text": [
      "/Library/Python/2.7/site-packages/pandas/core/index.py:4072: FutureWarning: elementwise comparison failed; returning scalar instead, but in the future will perform elementwise comparison\n",
      "  return np.sum(name == np.asarray(self.names)) > 1\n"
     ]
    }
   ],
   "source": [
    "hour_count = df[df[\"data_name\"] == \"train\"].groupby([\"hour\", \"workingday\"])[\"count\"].agg(\"sum\").unstack()\n",
    "print hour_count.head()"
   ]
  },
  {
   "cell_type": "code",
   "execution_count": 17,
   "metadata": {
    "collapsed": false
   },
   "outputs": [
    {
     "data": {
      "text/plain": [
       "<matplotlib.axes.AxesSubplot at 0x10edc4d90>"
      ]
     },
     "execution_count": 17,
     "metadata": {},
     "output_type": "execute_result"
    },
    {
     "data": {
      "image/png": "[encoded data removed]",
      "text/plain": [
       "<matplotlib.figure.Figure at 0x10ed60d10>"
      ]
     },
     "metadata": {},
     "output_type": "display_data"
    }
   ],
   "source": [
    "hour_count.plot(kind=\"bar\", figsize=(10,4), width=0.8)"
   ]
  },
  {
   "cell_type": "code",
   "execution_count": 18,
   "metadata": {
    "collapsed": false
   },
   "outputs": [],
   "source": [
    "# 根据以上hour分布，增加peak特征\n",
    "df['peak'] = df[['hour', 'workingday']].apply(lambda x: (0,1)[(x['workingday'] == 1 and  \n",
    "            ( x['hour'] == 8 or 17 <= x['hour'] <= 18 or 12 <= x['hour'] <= 12)) \n",
    "            or (x['workingday'] == 0 and  10 <= x['hour'] <= 19)], axis = 1)"
   ]
  },
  {
   "cell_type": "code",
   "execution_count": 19,
   "metadata": {
    "collapsed": true
   },
   "outputs": [],
   "source": [
    "# sandy ???\n",
    "df['holiday'] = df[['month', 'day', 'holiday', 'year']].apply(lambda x: (x['holiday'], 1)[x['year'] == 2012 and x['month'] == 10 and (x['day'] in [30])], axis = 1)"
   ]
  },
  {
   "cell_type": "code",
   "execution_count": 20,
   "metadata": {
    "collapsed": true
   },
   "outputs": [],
   "source": [
    "#christmas day and others\n",
    "df['holiday'] = df[['month', 'day', 'holiday']].apply(lambda x: (x['holiday'], 1)[x['month'] == 12 and (x['day'] in [24, 26, 31])], axis = 1)\n",
    "df['workingday'] = df[['month', 'day', 'workingday']].apply(lambda x: (x['workingday'], 0)[x['month'] == 12 and x['day'] in [24, 31]], axis = 1)"
   ]
  },
  {
   "cell_type": "markdown",
   "metadata": {},
   "source": [
    "## 2.5 天气特征"
   ]
  },
  {
   "cell_type": "code",
   "execution_count": 21,
   "metadata": {
    "collapsed": true
   },
   "outputs": [],
   "source": [
    "df['ideal'] = df[['temp', 'windspeed']].apply(lambda x: (0, 1)[x['temp'] > 27 and x['windspeed'] < 30], axis = 1)\n",
    "df['sticky'] = df[['humidity', 'workingday']].apply(lambda x: (0, 1)[x['workingday'] == 1 and x['humidity'] >= 60], axis = 1)"
   ]
  },
  {
   "cell_type": "markdown",
   "metadata": {},
   "source": [
    "# 3 模型"
   ]
  },
  {
   "cell_type": "code",
   "execution_count": 22,
   "metadata": {
    "collapsed": true
   },
   "outputs": [],
   "source": [
    "# root mean sqaure log error\n",
    "def get_rmsle(y_pred, y_true):\n",
    "    diff_log = np.log(y_pred + 1) - np.log(y_true + 1)\n",
    "    mean_error = np.square(diff_log).mean()\n",
    "    return np.sqrt(mean_error)"
   ]
  },
  {
   "cell_type": "code",
   "execution_count": 23,
   "metadata": {
    "collapsed": true
   },
   "outputs": [],
   "source": [
    "def get_data():\n",
    "    data = df[df[\"data_name\"] == \"train\"].copy()\n",
    "    return data"
   ]
  },
  {
   "cell_type": "code",
   "execution_count": 24,
   "metadata": {
    "collapsed": true
   },
   "outputs": [],
   "source": [
    "def custom_train_test_split(data, cutoff_day=15):\n",
    "    train = data[data[\"day\"] <= cutoff_day]\n",
    "    test = data[data[\"day\"] > cutoff_day]\n",
    "    return train, test"
   ]
  },
  {
   "cell_type": "code",
   "execution_count": 25,
   "metadata": {
    "collapsed": true
   },
   "outputs": [],
   "source": [
    "def prep_data(data, cols):\n",
    "    X = data[cols].as_matrix()\n",
    "    y_r = data[\"registered_log\"].as_matrix()\n",
    "    y_c = data[\"casual_log\"].as_matrix()\n",
    "    return X, y_r, y_c"
   ]
  },
  {
   "cell_type": "code",
   "execution_count": 26,
   "metadata": {
    "collapsed": true
   },
   "outputs": [],
   "source": [
    "def predict_on_validation_set(model, cols):\n",
    "    data = get_data()\n",
    "    \n",
    "    train, test = custom_train_test_split(data)\n",
    "    \n",
    "    X_train, y_train_r, y_train_c = prep_data(train, cols)\n",
    "    X_test, y_test_r, y_test_c = prep_data(test, cols)\n",
    "    \n",
    "    model_r = model.fit(X_train, y_train_r)\n",
    "    y_pred_r = np.exp(model_r.predict(X_test)) - 1\n",
    "    \n",
    "    model_c = model.fit(X_train, y_train_c)\n",
    "    y_pred_c = np.exp(model_c.predict(X_test)) -1\n",
    "    \n",
    "    y_pred_comb = np.round(y_pred_r + y_pred_c)\n",
    "    y_pred_comb[y_pred_comb < 0] = 0\n",
    "    \n",
    "    y_test_comb = np.exp(y_test_r) + np.exp(y_test_c) - 2\n",
    "    \n",
    "    score = get_rmsle(y_pred_comb, y_test_comb)\n",
    "    \n",
    "    return (y_pred_comb, y_test_comb, score)"
   ]
  },
  {
   "cell_type": "code",
   "execution_count": 27,
   "metadata": {
    "collapsed": true
   },
   "outputs": [],
   "source": [
    "def predict_on_test_set(model, cols):\n",
    "    df_train = df[df[\"data_name\"] == \"train\"].copy()\n",
    "    X_train = df_train[cols].as_matrix()\n",
    "    y_train_r = df_train[\"registered_log\"].as_matrix()\n",
    "    y_train_c = df_train[\"casual_log\"].as_matrix()\n",
    "    \n",
    "    X_test = df_test[cols].as_matrix()\n",
    "    \n",
    "    model_r = model.fit(X_train, y_train_r)\n",
    "    y_pred_r = np.exp(model_r.predict(X_test)) - 1\n",
    "    \n",
    "    model_c = model.fit(X_train, y_train_c)\n",
    "    y_pred_c = np.exp(model_c.predict(X_test)) -1\n",
    "    \n",
    "    return y_pred_c + y_pred_r"
   ]
  },
  {
   "cell_type": "code",
   "execution_count": 28,
   "metadata": {
    "collapsed": true
   },
   "outputs": [],
   "source": [
    "df_test = df[df[\"data_name\"] == \"test\"].copy()"
   ]
  },
  {
   "cell_type": "markdown",
   "metadata": {},
   "source": [
    "## 3.1 随机森林"
   ]
  },
  {
   "cell_type": "code",
   "execution_count": 29,
   "metadata": {
    "collapsed": false
   },
   "outputs": [
    {
     "name": "stdout",
     "output_type": "stream",
     "text": [
      "0.44059262711\n"
     ]
    }
   ],
   "source": [
    "params = {'n_estimators': 1000, 'max_depth': 15, 'random_state': 0, 'min_samples_split' : 5, 'n_jobs': -1}\n",
    "rf_model = RandomForestRegressor(**params)\n",
    "rf_cols = [\n",
    "    'weather', 'temp', 'atemp', 'windspeed',\n",
    "    'workingday', 'season', 'holiday', 'sticky',\n",
    "    'hour', 'dow', 'woy', 'peak'\n",
    "    ]\n",
    "(rf_p, rf_t, rf_score) = predict_on_validation_set(rf_model, rf_cols)\n",
    "print rf_score"
   ]
  },
  {
   "cell_type": "code",
   "execution_count": 30,
   "metadata": {
    "collapsed": false
   },
   "outputs": [
    {
     "data": {
      "text/html": [
       "<div>\n",
       "<table border=\"1\" class=\"dataframe\">\n",
       "  <thead>\n",
       "    <tr style=\"text-align: right;\">\n",
       "      <th></th>\n",
       "      <th>weather</th>\n",
       "      <th>temp</th>\n",
       "      <th>atemp</th>\n",
       "      <th>windspeed</th>\n",
       "      <th>workingday</th>\n",
       "      <th>season</th>\n",
       "      <th>holiday</th>\n",
       "      <th>sticky</th>\n",
       "      <th>hour</th>\n",
       "      <th>dow</th>\n",
       "      <th>woy</th>\n",
       "      <th>peak</th>\n",
       "    </tr>\n",
       "  </thead>\n",
       "  <tbody>\n",
       "    <tr>\n",
       "      <th>weather</th>\n",
       "      <td>1.000000</td>\n",
       "      <td>-0.102640</td>\n",
       "      <td>-0.105563</td>\n",
       "      <td>0.026226</td>\n",
       "      <td>0.041482</td>\n",
       "      <td>-0.014524</td>\n",
       "      <td>0.008702</td>\n",
       "      <td>0.242225</td>\n",
       "      <td>-0.020203</td>\n",
       "      <td>-0.046424</td>\n",
       "      <td>0.009692</td>\n",
       "      <td>-0.007482</td>\n",
       "    </tr>\n",
       "    <tr>\n",
       "      <th>temp</th>\n",
       "      <td>-0.102640</td>\n",
       "      <td>1.000000</td>\n",
       "      <td>0.987672</td>\n",
       "      <td>-0.023125</td>\n",
       "      <td>0.063503</td>\n",
       "      <td>0.312025</td>\n",
       "      <td>-0.068687</td>\n",
       "      <td>-0.010066</td>\n",
       "      <td>0.137603</td>\n",
       "      <td>-0.036220</td>\n",
       "      <td>0.198641</td>\n",
       "      <td>0.095949</td>\n",
       "    </tr>\n",
       "    <tr>\n",
       "      <th>atemp</th>\n",
       "      <td>-0.105563</td>\n",
       "      <td>0.987672</td>\n",
       "      <td>1.000000</td>\n",
       "      <td>-0.062336</td>\n",
       "      <td>0.062471</td>\n",
       "      <td>0.319380</td>\n",
       "      <td>-0.071974</td>\n",
       "      <td>0.001853</td>\n",
       "      <td>0.133750</td>\n",
       "      <td>-0.038918</td>\n",
       "      <td>0.205561</td>\n",
       "      <td>0.090360</td>\n",
       "    </tr>\n",
       "    <tr>\n",
       "      <th>windspeed</th>\n",
       "      <td>0.026226</td>\n",
       "      <td>-0.023125</td>\n",
       "      <td>-0.062336</td>\n",
       "      <td>1.000000</td>\n",
       "      <td>-0.008332</td>\n",
       "      <td>-0.149773</td>\n",
       "      <td>0.005003</td>\n",
       "      <td>-0.191301</td>\n",
       "      <td>0.137252</td>\n",
       "      <td>0.003274</td>\n",
       "      <td>-0.131613</td>\n",
       "      <td>0.134438</td>\n",
       "    </tr>\n",
       "    <tr>\n",
       "      <th>workingday</th>\n",
       "      <td>0.041482</td>\n",
       "      <td>0.063503</td>\n",
       "      <td>0.062471</td>\n",
       "      <td>-0.008332</td>\n",
       "      <td>1.000000</td>\n",
       "      <td>0.021577</td>\n",
       "      <td>-0.259631</td>\n",
       "      <td>0.536900</td>\n",
       "      <td>0.002185</td>\n",
       "      <td>-0.692113</td>\n",
       "      <td>-0.013280</td>\n",
       "      <td>-0.268954</td>\n",
       "    </tr>\n",
       "    <tr>\n",
       "      <th>season</th>\n",
       "      <td>-0.014524</td>\n",
       "      <td>0.312025</td>\n",
       "      <td>0.319380</td>\n",
       "      <td>-0.149773</td>\n",
       "      <td>0.021577</td>\n",
       "      <td>1.000000</td>\n",
       "      <td>-0.053686</td>\n",
       "      <td>0.101340</td>\n",
       "      <td>-0.006117</td>\n",
       "      <td>-0.007448</td>\n",
       "      <td>0.814302</td>\n",
       "      <td>-0.006512</td>\n",
       "    </tr>\n",
       "    <tr>\n",
       "      <th>holiday</th>\n",
       "      <td>0.008702</td>\n",
       "      <td>-0.068687</td>\n",
       "      <td>-0.071974</td>\n",
       "      <td>0.005003</td>\n",
       "      <td>-0.259631</td>\n",
       "      <td>-0.053686</td>\n",
       "      <td>1.000000</td>\n",
       "      <td>-0.129598</td>\n",
       "      <td>0.003675</td>\n",
       "      <td>-0.183181</td>\n",
       "      <td>0.058053</td>\n",
       "      <td>0.062929</td>\n",
       "    </tr>\n",
       "    <tr>\n",
       "      <th>sticky</th>\n",
       "      <td>0.242225</td>\n",
       "      <td>-0.010066</td>\n",
       "      <td>0.001853</td>\n",
       "      <td>-0.191301</td>\n",
       "      <td>0.536900</td>\n",
       "      <td>0.101340</td>\n",
       "      <td>-0.129598</td>\n",
       "      <td>1.000000</td>\n",
       "      <td>-0.186906</td>\n",
       "      <td>-0.397343</td>\n",
       "      <td>0.103407</td>\n",
       "      <td>-0.218928</td>\n",
       "    </tr>\n",
       "    <tr>\n",
       "      <th>hour</th>\n",
       "      <td>-0.020203</td>\n",
       "      <td>0.137603</td>\n",
       "      <td>0.133750</td>\n",
       "      <td>0.137252</td>\n",
       "      <td>0.002185</td>\n",
       "      <td>-0.006117</td>\n",
       "      <td>0.003675</td>\n",
       "      <td>-0.186906</td>\n",
       "      <td>1.000000</td>\n",
       "      <td>-0.002893</td>\n",
       "      <td>-0.005437</td>\n",
       "      <td>0.216209</td>\n",
       "    </tr>\n",
       "    <tr>\n",
       "      <th>dow</th>\n",
       "      <td>-0.046424</td>\n",
       "      <td>-0.036220</td>\n",
       "      <td>-0.038918</td>\n",
       "      <td>0.003274</td>\n",
       "      <td>-0.692113</td>\n",
       "      <td>-0.007448</td>\n",
       "      <td>-0.183181</td>\n",
       "      <td>-0.397343</td>\n",
       "      <td>-0.002893</td>\n",
       "      <td>1.000000</td>\n",
       "      <td>0.009368</td>\n",
       "      <td>0.189718</td>\n",
       "    </tr>\n",
       "    <tr>\n",
       "      <th>woy</th>\n",
       "      <td>0.009692</td>\n",
       "      <td>0.198641</td>\n",
       "      <td>0.205561</td>\n",
       "      <td>-0.131613</td>\n",
       "      <td>-0.013280</td>\n",
       "      <td>0.814302</td>\n",
       "      <td>0.058053</td>\n",
       "      <td>0.103407</td>\n",
       "      <td>-0.005437</td>\n",
       "      <td>0.009368</td>\n",
       "      <td>1.000000</td>\n",
       "      <td>0.001527</td>\n",
       "    </tr>\n",
       "    <tr>\n",
       "      <th>peak</th>\n",
       "      <td>-0.007482</td>\n",
       "      <td>0.095949</td>\n",
       "      <td>0.090360</td>\n",
       "      <td>0.134438</td>\n",
       "      <td>-0.268954</td>\n",
       "      <td>-0.006512</td>\n",
       "      <td>0.062929</td>\n",
       "      <td>-0.218928</td>\n",
       "      <td>0.216209</td>\n",
       "      <td>0.189718</td>\n",
       "      <td>0.001527</td>\n",
       "      <td>1.000000</td>\n",
       "    </tr>\n",
       "  </tbody>\n",
       "</table>\n",
       "</div>"
      ],
      "text/plain": [
       "             weather      temp     atemp  windspeed  workingday    season  \\\n",
       "weather     1.000000 -0.102640 -0.105563   0.026226    0.041482 -0.014524   \n",
       "temp       -0.102640  1.000000  0.987672  -0.023125    0.063503  0.312025   \n",
       "atemp      -0.105563  0.987672  1.000000  -0.062336    0.062471  0.319380   \n",
       "windspeed   0.026226 -0.023125 -0.062336   1.000000   -0.008332 -0.149773   \n",
       "workingday  0.041482  0.063503  0.062471  -0.008332    1.000000  0.021577   \n",
       "season     -0.014524  0.312025  0.319380  -0.149773    0.021577  1.000000   \n",
       "holiday     0.008702 -0.068687 -0.071974   0.005003   -0.259631 -0.053686   \n",
       "sticky      0.242225 -0.010066  0.001853  -0.191301    0.536900  0.101340   \n",
       "hour       -0.020203  0.137603  0.133750   0.137252    0.002185 -0.006117   \n",
       "dow        -0.046424 -0.036220 -0.038918   0.003274   -0.692113 -0.007448   \n",
       "woy         0.009692  0.198641  0.205561  -0.131613   -0.013280  0.814302   \n",
       "peak       -0.007482  0.095949  0.090360   0.134438   -0.268954 -0.006512   \n",
       "\n",
       "             holiday    sticky      hour       dow       woy      peak  \n",
       "weather     0.008702  0.242225 -0.020203 -0.046424  0.009692 -0.007482  \n",
       "temp       -0.068687 -0.010066  0.137603 -0.036220  0.198641  0.095949  \n",
       "atemp      -0.071974  0.001853  0.133750 -0.038918  0.205561  0.090360  \n",
       "windspeed   0.005003 -0.191301  0.137252  0.003274 -0.131613  0.134438  \n",
       "workingday -0.259631  0.536900  0.002185 -0.692113 -0.013280 -0.268954  \n",
       "season     -0.053686  0.101340 -0.006117 -0.007448  0.814302 -0.006512  \n",
       "holiday     1.000000 -0.129598  0.003675 -0.183181  0.058053  0.062929  \n",
       "sticky     -0.129598  1.000000 -0.186906 -0.397343  0.103407 -0.218928  \n",
       "hour        0.003675 -0.186906  1.000000 -0.002893 -0.005437  0.216209  \n",
       "dow        -0.183181 -0.397343 -0.002893  1.000000  0.009368  0.189718  \n",
       "woy         0.058053  0.103407 -0.005437  0.009368  1.000000  0.001527  \n",
       "peak        0.062929 -0.218928  0.216209  0.189718  0.001527  1.000000  "
      ]
     },
     "execution_count": 30,
     "metadata": {},
     "output_type": "execute_result"
    }
   ],
   "source": [
    "df[rf_cols].corr()"
   ]
  },
  {
   "cell_type": "markdown",
   "metadata": {},
   "source": [
    "## 3.2 GBRT"
   ]
  },
  {
   "cell_type": "code",
   "execution_count": 31,
   "metadata": {
    "collapsed": false
   },
   "outputs": [
    {
     "name": "stdout",
     "output_type": "stream",
     "text": [
      "0.316307453101\n"
     ]
    }
   ],
   "source": [
    "params = {'n_estimators': 150, 'max_depth': 5, 'random_state': 0, 'min_samples_leaf' : 10, 'learning_rate': 0.1, 'subsample': 0.7, 'loss': 'ls'}\n",
    "gbm_model = GradientBoostingRegressor(**params)\n",
    "gbm_cols = [\n",
    "    'weather', 'temp', 'atemp', 'humidity', 'windspeed',\n",
    "    'holiday', 'workingday', 'season',\n",
    "    'hour', 'dow', 'year', 'ideal', 'season_count',\n",
    "]\n",
    "\n",
    "(gbm_p, gbm_t, gbm_score) = predict_on_validation_set(gbm_model, gbm_cols)\n",
    "print gbm_score"
   ]
  },
  {
   "cell_type": "code",
   "execution_count": 32,
   "metadata": {
    "collapsed": false
   },
   "outputs": [
    {
     "data": {
      "text/html": [
       "<div>\n",
       "<table border=\"1\" class=\"dataframe\">\n",
       "  <thead>\n",
       "    <tr style=\"text-align: right;\">\n",
       "      <th></th>\n",
       "      <th>weather</th>\n",
       "      <th>temp</th>\n",
       "      <th>atemp</th>\n",
       "      <th>humidity</th>\n",
       "      <th>windspeed</th>\n",
       "      <th>holiday</th>\n",
       "      <th>workingday</th>\n",
       "      <th>season</th>\n",
       "      <th>hour</th>\n",
       "      <th>dow</th>\n",
       "      <th>year</th>\n",
       "      <th>ideal</th>\n",
       "      <th>season_count</th>\n",
       "    </tr>\n",
       "  </thead>\n",
       "  <tbody>\n",
       "    <tr>\n",
       "      <th>weather</th>\n",
       "      <td>1.000000</td>\n",
       "      <td>-0.102640</td>\n",
       "      <td>-0.105563</td>\n",
       "      <td>0.418130</td>\n",
       "      <td>0.026226</td>\n",
       "      <td>0.008702</td>\n",
       "      <td>0.041482</td>\n",
       "      <td>-0.014524</td>\n",
       "      <td>-0.020203</td>\n",
       "      <td>-0.046424</td>\n",
       "      <td>-0.019157</td>\n",
       "      <td>-0.145407</td>\n",
       "      <td>-0.051863</td>\n",
       "    </tr>\n",
       "    <tr>\n",
       "      <th>temp</th>\n",
       "      <td>-0.102640</td>\n",
       "      <td>1.000000</td>\n",
       "      <td>0.987672</td>\n",
       "      <td>-0.069881</td>\n",
       "      <td>-0.023125</td>\n",
       "      <td>-0.068687</td>\n",
       "      <td>0.063503</td>\n",
       "      <td>0.312025</td>\n",
       "      <td>0.137603</td>\n",
       "      <td>-0.036220</td>\n",
       "      <td>0.040913</td>\n",
       "      <td>0.727266</td>\n",
       "      <td>0.705172</td>\n",
       "    </tr>\n",
       "    <tr>\n",
       "      <th>atemp</th>\n",
       "      <td>-0.105563</td>\n",
       "      <td>0.987672</td>\n",
       "      <td>1.000000</td>\n",
       "      <td>-0.051918</td>\n",
       "      <td>-0.062336</td>\n",
       "      <td>-0.071974</td>\n",
       "      <td>0.062471</td>\n",
       "      <td>0.319380</td>\n",
       "      <td>0.133750</td>\n",
       "      <td>-0.038918</td>\n",
       "      <td>0.039222</td>\n",
       "      <td>0.701874</td>\n",
       "      <td>0.701434</td>\n",
       "    </tr>\n",
       "    <tr>\n",
       "      <th>humidity</th>\n",
       "      <td>0.418130</td>\n",
       "      <td>-0.069881</td>\n",
       "      <td>-0.051918</td>\n",
       "      <td>1.000000</td>\n",
       "      <td>-0.290105</td>\n",
       "      <td>0.001956</td>\n",
       "      <td>0.014002</td>\n",
       "      <td>0.150625</td>\n",
       "      <td>-0.276498</td>\n",
       "      <td>-0.035233</td>\n",
       "      <td>-0.083546</td>\n",
       "      <td>-0.141678</td>\n",
       "      <td>0.113724</td>\n",
       "    </tr>\n",
       "    <tr>\n",
       "      <th>windspeed</th>\n",
       "      <td>0.026226</td>\n",
       "      <td>-0.023125</td>\n",
       "      <td>-0.062336</td>\n",
       "      <td>-0.290105</td>\n",
       "      <td>1.000000</td>\n",
       "      <td>0.005003</td>\n",
       "      <td>-0.008332</td>\n",
       "      <td>-0.149773</td>\n",
       "      <td>0.137252</td>\n",
       "      <td>0.003274</td>\n",
       "      <td>-0.008740</td>\n",
       "      <td>-0.051489</td>\n",
       "      <td>-0.113048</td>\n",
       "    </tr>\n",
       "    <tr>\n",
       "      <th>holiday</th>\n",
       "      <td>0.008702</td>\n",
       "      <td>-0.068687</td>\n",
       "      <td>-0.071974</td>\n",
       "      <td>0.001956</td>\n",
       "      <td>0.005003</td>\n",
       "      <td>1.000000</td>\n",
       "      <td>-0.259631</td>\n",
       "      <td>-0.053686</td>\n",
       "      <td>0.003675</td>\n",
       "      <td>-0.183181</td>\n",
       "      <td>0.016246</td>\n",
       "      <td>-0.015191</td>\n",
       "      <td>-0.096704</td>\n",
       "    </tr>\n",
       "    <tr>\n",
       "      <th>workingday</th>\n",
       "      <td>0.041482</td>\n",
       "      <td>0.063503</td>\n",
       "      <td>0.062471</td>\n",
       "      <td>0.014002</td>\n",
       "      <td>-0.008332</td>\n",
       "      <td>-0.259631</td>\n",
       "      <td>1.000000</td>\n",
       "      <td>0.021577</td>\n",
       "      <td>0.002185</td>\n",
       "      <td>-0.692113</td>\n",
       "      <td>-0.007959</td>\n",
       "      <td>0.020212</td>\n",
       "      <td>0.042437</td>\n",
       "    </tr>\n",
       "    <tr>\n",
       "      <th>season</th>\n",
       "      <td>-0.014524</td>\n",
       "      <td>0.312025</td>\n",
       "      <td>0.319380</td>\n",
       "      <td>0.150625</td>\n",
       "      <td>-0.149773</td>\n",
       "      <td>-0.053686</td>\n",
       "      <td>0.021577</td>\n",
       "      <td>1.000000</td>\n",
       "      <td>-0.006117</td>\n",
       "      <td>-0.007448</td>\n",
       "      <td>-0.010742</td>\n",
       "      <td>0.156455</td>\n",
       "      <td>0.663537</td>\n",
       "    </tr>\n",
       "    <tr>\n",
       "      <th>hour</th>\n",
       "      <td>-0.020203</td>\n",
       "      <td>0.137603</td>\n",
       "      <td>0.133750</td>\n",
       "      <td>-0.276498</td>\n",
       "      <td>0.137252</td>\n",
       "      <td>0.003675</td>\n",
       "      <td>0.002185</td>\n",
       "      <td>-0.006117</td>\n",
       "      <td>1.000000</td>\n",
       "      <td>-0.002893</td>\n",
       "      <td>-0.003867</td>\n",
       "      <td>0.113745</td>\n",
       "      <td>-0.008248</td>\n",
       "    </tr>\n",
       "    <tr>\n",
       "      <th>dow</th>\n",
       "      <td>-0.046424</td>\n",
       "      <td>-0.036220</td>\n",
       "      <td>-0.038918</td>\n",
       "      <td>-0.035233</td>\n",
       "      <td>0.003274</td>\n",
       "      <td>-0.183181</td>\n",
       "      <td>-0.692113</td>\n",
       "      <td>-0.007448</td>\n",
       "      <td>-0.002893</td>\n",
       "      <td>1.000000</td>\n",
       "      <td>0.000977</td>\n",
       "      <td>-0.009208</td>\n",
       "      <td>-0.014472</td>\n",
       "    </tr>\n",
       "    <tr>\n",
       "      <th>year</th>\n",
       "      <td>-0.019157</td>\n",
       "      <td>0.040913</td>\n",
       "      <td>0.039222</td>\n",
       "      <td>-0.083546</td>\n",
       "      <td>-0.008740</td>\n",
       "      <td>0.016246</td>\n",
       "      <td>-0.007959</td>\n",
       "      <td>-0.010742</td>\n",
       "      <td>-0.003867</td>\n",
       "      <td>0.000977</td>\n",
       "      <td>1.000000</td>\n",
       "      <td>0.000788</td>\n",
       "      <td>-0.009706</td>\n",
       "    </tr>\n",
       "    <tr>\n",
       "      <th>ideal</th>\n",
       "      <td>-0.145407</td>\n",
       "      <td>0.727266</td>\n",
       "      <td>0.701874</td>\n",
       "      <td>-0.141678</td>\n",
       "      <td>-0.051489</td>\n",
       "      <td>-0.015191</td>\n",
       "      <td>0.020212</td>\n",
       "      <td>0.156455</td>\n",
       "      <td>0.113745</td>\n",
       "      <td>-0.009208</td>\n",
       "      <td>0.000788</td>\n",
       "      <td>1.000000</td>\n",
       "      <td>0.462633</td>\n",
       "    </tr>\n",
       "    <tr>\n",
       "      <th>season_count</th>\n",
       "      <td>-0.051863</td>\n",
       "      <td>0.705172</td>\n",
       "      <td>0.701434</td>\n",
       "      <td>0.113724</td>\n",
       "      <td>-0.113048</td>\n",
       "      <td>-0.096704</td>\n",
       "      <td>0.042437</td>\n",
       "      <td>0.663537</td>\n",
       "      <td>-0.008248</td>\n",
       "      <td>-0.014472</td>\n",
       "      <td>-0.009706</td>\n",
       "      <td>0.462633</td>\n",
       "      <td>1.000000</td>\n",
       "    </tr>\n",
       "  </tbody>\n",
       "</table>\n",
       "</div>"
      ],
      "text/plain": [
       "               weather      temp     atemp  humidity  windspeed   holiday  \\\n",
       "weather       1.000000 -0.102640 -0.105563  0.418130   0.026226  0.008702   \n",
       "temp         -0.102640  1.000000  0.987672 -0.069881  -0.023125 -0.068687   \n",
       "atemp        -0.105563  0.987672  1.000000 -0.051918  -0.062336 -0.071974   \n",
       "humidity      0.418130 -0.069881 -0.051918  1.000000  -0.290105  0.001956   \n",
       "windspeed     0.026226 -0.023125 -0.062336 -0.290105   1.000000  0.005003   \n",
       "holiday       0.008702 -0.068687 -0.071974  0.001956   0.005003  1.000000   \n",
       "workingday    0.041482  0.063503  0.062471  0.014002  -0.008332 -0.259631   \n",
       "season       -0.014524  0.312025  0.319380  0.150625  -0.149773 -0.053686   \n",
       "hour         -0.020203  0.137603  0.133750 -0.276498   0.137252  0.003675   \n",
       "dow          -0.046424 -0.036220 -0.038918 -0.035233   0.003274 -0.183181   \n",
       "year         -0.019157  0.040913  0.039222 -0.083546  -0.008740  0.016246   \n",
       "ideal        -0.145407  0.727266  0.701874 -0.141678  -0.051489 -0.015191   \n",
       "season_count -0.051863  0.705172  0.701434  0.113724  -0.113048 -0.096704   \n",
       "\n",
       "              workingday    season      hour       dow      year     ideal  \\\n",
       "weather         0.041482 -0.014524 -0.020203 -0.046424 -0.019157 -0.145407   \n",
       "temp            0.063503  0.312025  0.137603 -0.036220  0.040913  0.727266   \n",
       "atemp           0.062471  0.319380  0.133750 -0.038918  0.039222  0.701874   \n",
       "humidity        0.014002  0.150625 -0.276498 -0.035233 -0.083546 -0.141678   \n",
       "windspeed      -0.008332 -0.149773  0.137252  0.003274 -0.008740 -0.051489   \n",
       "holiday        -0.259631 -0.053686  0.003675 -0.183181  0.016246 -0.015191   \n",
       "workingday      1.000000  0.021577  0.002185 -0.692113 -0.007959  0.020212   \n",
       "season          0.021577  1.000000 -0.006117 -0.007448 -0.010742  0.156455   \n",
       "hour            0.002185 -0.006117  1.000000 -0.002893 -0.003867  0.113745   \n",
       "dow            -0.692113 -0.007448 -0.002893  1.000000  0.000977 -0.009208   \n",
       "year           -0.007959 -0.010742 -0.003867  0.000977  1.000000  0.000788   \n",
       "ideal           0.020212  0.156455  0.113745 -0.009208  0.000788  1.000000   \n",
       "season_count    0.042437  0.663537 -0.008248 -0.014472 -0.009706  0.462633   \n",
       "\n",
       "              season_count  \n",
       "weather          -0.051863  \n",
       "temp              0.705172  \n",
       "atemp             0.701434  \n",
       "humidity          0.113724  \n",
       "windspeed        -0.113048  \n",
       "holiday          -0.096704  \n",
       "workingday        0.042437  \n",
       "season            0.663537  \n",
       "hour             -0.008248  \n",
       "dow              -0.014472  \n",
       "year             -0.009706  \n",
       "ideal             0.462633  \n",
       "season_count      1.000000  "
      ]
     },
     "execution_count": 32,
     "metadata": {},
     "output_type": "execute_result"
    }
   ],
   "source": [
    "df[gbm_cols].corr()"
   ]
  },
  {
   "cell_type": "markdown",
   "metadata": {},
   "source": [
    "## 3.3 模型Ensemble"
   ]
  },
  {
   "cell_type": "code",
   "execution_count": 33,
   "metadata": {
    "collapsed": false
   },
   "outputs": [
    {
     "name": "stdout",
     "output_type": "stream",
     "text": [
      "0.31980544659\n"
     ]
    }
   ],
   "source": [
    "# the blend gives a better score on the leaderboard, even though it does not on the validation set\n",
    "ensemble_p = np.round(0.2*rf_p + 0.8*gbm_p)\n",
    "print get_rmsle(ensemble_p, rf_t)"
   ]
  },
  {
   "cell_type": "code",
   "execution_count": 34,
   "metadata": {
    "collapsed": false
   },
   "outputs": [],
   "source": [
    "rf_pred = predict_on_test_set(rf_model, rf_cols)\n",
    "gbm_pred = predict_on_test_set(gbm_model, gbm_cols)\n",
    "y_pred = np.round(0.2*rf_pred + 0.8*gbm_pred)"
   ]
  },
  {
   "cell_type": "markdown",
   "metadata": {},
   "source": [
    "# 4 输出"
   ]
  },
  {
   "cell_type": "code",
   "execution_count": 35,
   "metadata": {
    "collapsed": true
   },
   "outputs": [],
   "source": [
    "df_test[\"count\"] = y_pred\n",
    "df_output = df_test[[\"datetime\", \"count\"]].copy()\n",
    "df_output.to_csv(\"../output/submit_rf_gbm.csv\", index=False)"
   ]
  },
  {
   "cell_type": "code",
   "execution_count": 36,
   "metadata": {
    "collapsed": false
   },
   "outputs": [
    {
     "data": {
      "text/html": [
       "<div>\n",
       "<table border=\"1\" class=\"dataframe\">\n",
       "  <thead>\n",
       "    <tr style=\"text-align: right;\">\n",
       "      <th></th>\n",
       "      <th>datetime</th>\n",
       "      <th>count</th>\n",
       "    </tr>\n",
       "  </thead>\n",
       "  <tbody>\n",
       "    <tr>\n",
       "      <th>2011-01-20 00:00:00</th>\n",
       "      <td>2011-01-20 00:00:00</td>\n",
       "      <td>12</td>\n",
       "    </tr>\n",
       "    <tr>\n",
       "      <th>2011-01-20 01:00:00</th>\n",
       "      <td>2011-01-20 01:00:00</td>\n",
       "      <td>5</td>\n",
       "    </tr>\n",
       "    <tr>\n",
       "      <th>2011-01-20 02:00:00</th>\n",
       "      <td>2011-01-20 02:00:00</td>\n",
       "      <td>3</td>\n",
       "    </tr>\n",
       "    <tr>\n",
       "      <th>2011-01-20 03:00:00</th>\n",
       "      <td>2011-01-20 03:00:00</td>\n",
       "      <td>2</td>\n",
       "    </tr>\n",
       "    <tr>\n",
       "      <th>2011-01-20 04:00:00</th>\n",
       "      <td>2011-01-20 04:00:00</td>\n",
       "      <td>2</td>\n",
       "    </tr>\n",
       "  </tbody>\n",
       "</table>\n",
       "</div>"
      ],
      "text/plain": [
       "                                datetime  count\n",
       "2011-01-20 00:00:00  2011-01-20 00:00:00     12\n",
       "2011-01-20 01:00:00  2011-01-20 01:00:00      5\n",
       "2011-01-20 02:00:00  2011-01-20 02:00:00      3\n",
       "2011-01-20 03:00:00  2011-01-20 03:00:00      2\n",
       "2011-01-20 04:00:00  2011-01-20 04:00:00      2"
      ]
     },
     "execution_count": 36,
     "metadata": {},
     "output_type": "execute_result"
    }
   ],
   "source": [
    "df_output.head()"
   ]
  },
  {
   "cell_type": "code",
   "execution_count": null,
   "metadata": {
    "collapsed": true
   },
   "outputs": [],
   "source": []
  }
 ],
 "metadata": {
  "kernelspec": {
   "display_name": "Python 2",
   "language": "python",
   "name": "python2"
  },
  "language_info": {
   "codemirror_mode": {
    "name": "ipython",
    "version": 2
   },
   "file_extension": ".py",
   "mimetype": "text/x-python",
   "name": "python",
   "nbconvert_exporter": "python",
   "pygments_lexer": "ipython2",
   "version": "2.7.6"
  }
 },
 "nbformat": 4,
 "nbformat_minor": 0
}
